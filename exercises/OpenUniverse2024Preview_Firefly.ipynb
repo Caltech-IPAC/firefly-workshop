{
 "cells": [
  {
   "cell_type": "markdown",
   "id": "761a970f",
   "metadata": {},
   "source": [
    "# Using Firefly to Explore OpenUniverse2024 Data Preview Simulated Roman and Rubin Images"
   ]
  },
  {
   "cell_type": "markdown",
   "id": "cce0ba2b",
   "metadata": {},
   "source": [
    "## Learning Goals\n",
    "\n",
    "By the end of this tutorial, you will:\n",
    "\n",
    "- Learn how to access cloud-hosted Roman and Rubin simulated images.\n",
    "\n",
    "- Learn how to launch an interactive Firefly instance inside JupyterLab.\n",
    "\n",
    "- Learn how to use the Firefly Jupyterlab extension to visualize cloud-hosted simulated images, overplot ds9 regions, overplot catalogs in Parquet format, and create 3 color images."
   ]
  },
  {
   "cell_type": "markdown",
   "id": "837747ba",
   "metadata": {},
   "source": [
    "## Introduction\n",
    "\n",
    "The purpose of this tutorial is to become familiar with simulated Roman and Rubin simulated data published through the OpenUniverse 2024 data preview, and to become familiar with the Firefly JupyterLab Extension for visualizing astronomical data products.\n",
    "\n",
    "OpenUniverse2024 is a project to simulate spatially overlapping imaging surveys to be carried out by the Nancy Grace Roman Telescope and the Vera C. Rubin Observatory. The simulations were carried out on Argonne's Theta cluster and consist of:\n",
    "\n",
    "- The LSST ELAIS-S1 Deep Drilling Field (DDF)\n",
    "- The Roman Time-Domain Survey (TDS) shifted to overlap the ELAIS region and LSST DDF\n",
    "- Overlapping LSST Wide-Fast-Deep (WFD) survey (with rolling cadence)\n",
    "- Overlapping Roman Wide-Area Survey (WAS) in the same region\n",
    "- A deep-field calibration region of the Roman WAS in the same region\n",
    "\n",
    "This data preview release consists of a subset of data from each of the five categories above. More information about data preview can be found at:\n",
    "https://irsa.ipac.caltech.edu/data/theory/openuniverse2024/overview.html\n",
    "\n",
    "Firefly is an open-source web-based UI library for astronomical data archive access and visualization developed at Caltech and used by multiple space- and ground-based astrophysics archives. More information can be found here:\n",
    "https://github.com/Caltech-IPAC/firefly/blob/dev/README.md\n",
    "\n",
    "In addition to being used to make web applications, Firefly can be used from Python. More information can be found here:\n",
    "https://caltech-ipac.github.io/firefly_client/usage/index.html\n",
    "\n",
    "The Firefly JupyterLab Extension makes it particularly easy to use Firefly to efficiently visualize cloud-hosted astronomical data using cloud-based JupyterLab instances. More information can be found here:\n",
    "\n",
    "https://github.com/Caltech-IPAC/jupyter_firefly_extensions/blob/master/README.md"
   ]
  },
  {
   "cell_type": "markdown",
   "id": "70f0a5b4",
   "metadata": {},
   "source": [
    "## Imports\n",
    "\n",
    "- astropy.io.fits for accessing FITS files\n",
    "- numpy for numerical computing\n",
    "- s3fs for browsing cloud buckets\n",
    "- matplotlib.pyplot for creating static visualizations of FITS images\n",
    "- matplotlib.patches for annotating visualizations of FITS images\n",
    "- astropy.wcs for dealing with astronomical world coordinate systems\n",
    "- astropy.units for dealing with astronomical units\n",
    "- astropy.coordinates.SkyCoord for dealing with astronomical coordinates\n",
    "- firefly_client.FireflyClient for using the Firefly python client\n",
    "- astropy.nddata.Cutout2D for making image cutouts\n",
    "- itertools.product to support looping over Roman blocks\n",
    "- reproject.reproject_interp to convert Roman coadds from STG to TAN projection\n",
    "- io.BytesIO for writing a fits file to an in-memory stream"
   ]
  },
  {
   "cell_type": "code",
   "execution_count": null,
   "id": "1502b695",
   "metadata": {},
   "outputs": [],
   "source": [
    "from astropy.io import fits\n",
    "import numpy as np\n",
    "import s3fs\n",
    "from matplotlib import pyplot as plt\n",
    "from matplotlib import patches\n",
    "from astropy import wcs\n",
    "from astropy import units as u\n",
    "from astropy.coordinates import SkyCoord\n",
    "from firefly_client import FireflyClient\n",
    "from astropy.nddata import Cutout2D\n",
    "from itertools import product\n",
    "from reproject import reproject_interp\n",
    "from io import BytesIO"
   ]
  },
  {
   "cell_type": "markdown",
   "id": "7a32ce1a",
   "metadata": {},
   "source": [
    "## Learn where the OpenUniverse2024 data are hosted in the cloud.\n",
    "\n",
    "The OpenUniverse2024 data preview is hosted in the cloud via Amazon Web Services (AWS). To access these data, you need to create a client to read data from Amazon's Simple Storage Service (s3) buckets, and you need to know some information about those buckets. The OpenUniverse2024 data preview contains simulations of the Roman Wide-Area Survey (WAS) and the Roman Time Domain Survey (TDS). In this tutorial, we will focus on the WAS."
   ]
  },
  {
   "cell_type": "code",
   "execution_count": null,
   "id": "0389e4be",
   "metadata": {},
   "outputs": [],
   "source": [
    "BUCKET_NAME = \"nasa-irsa-simulations\"\n",
    "ROMAN_PREFIX = \"openuniverse2024/roman/preview\"\n",
    "ROMAN_COADD_PATH = f\"{ROMAN_PREFIX}/RomanWAS/images/coadds\"\n",
    "TRUTH_FILES_PATH = f\"{ROMAN_PREFIX}/roman_rubin_cats_v1.1.2_faint\"\n",
    "\n",
    "RUBIN_PREFIX = \"openuniverse2024/rubin/preview\"\n",
    "RUBIN_COADD_PATH = f\"{RUBIN_PREFIX}/u/descdm/preview_data_step3_2877_19_w_2024_12/20240403T150003Z/deepCoadd_calexp/2877/19\""
   ]
  },
  {
   "cell_type": "markdown",
   "id": "f566cdfb",
   "metadata": {},
   "source": [
    "## Roman Coadds\n",
    "\n",
    "The Nancy Grace Roman Space Telescope will carry out a wide-area survey (WAS) in the near infrared. The OpenUniverse2024 data preview includes coadded mosaics of simulated WAS data, created with the IMCOM algorithm (Rowe et al. 2011). Bands include F184, H158, J129, K213, Y106. In this section, we define some functions that make it convenient to retrieve a given cloud-hosted simulated Roman coadd based on position and filter."
   ]
  },
  {
   "cell_type": "markdown",
   "id": "6453caed",
   "metadata": {},
   "source": [
    "### Define Roman Simulated \"Blocks\"\n",
    "\n",
    "The simulated Roman coadds are arranged in 100 arcsecond blocks, as described in Hirata et al. 2024. Below we define the RA and Dec of the block centers. This cell should not be altered."
   ]
  },
  {
   "cell_type": "code",
   "execution_count": null,
   "id": "e844d931",
   "metadata": {},
   "outputs": [],
   "source": [
    "#Centers of roman data preview blocks. Do not alter.\n",
    "ra_block_centers = np.array([9.76330352298415, 9.724522605135252, 9.68574158906671,\n",
    "                        9.646960496603766, 9.608179349571955, 9.56939816979703,\n",
    "                        9.530616979104877, 9.491835799321422, 9.453054652272561,\n",
    "                        9.414273559784032, 9.375492543681393, 9.336711625789874]) * u.deg\n",
    "dec_block_centers = np.array([-44.252584927082495, -44.22480733304182, -44.197029724175756,\n",
    "                            -44.16925210374898, -44.14147447502621, -44.11369684127218,\n",
    "                            -44.08591920575162, -44.05814157172923, -44.03036394246976,\n",
    "                            -44.0025863212379, -43.974808711298394, -43.94703111591591]) * u.deg\n",
    "block_size = 100 * u.arcsec # each block is 100 arcsec across"
   ]
  },
  {
   "cell_type": "markdown",
   "id": "5a3f7a68",
   "metadata": {},
   "source": [
    "### Define a function that returns the simulated Roman block column/row for a given RA/Dec.\n",
    "Blocks are arranged in a grid with axes parallel to RA and Dec. A given RA represents a column of blocks and a given Dec represents a row of blocks. This function returns the block column or row given the block centers from the cell above and a given RA or Dec, respectively."
   ]
  },
  {
   "cell_type": "code",
   "execution_count": null,
   "id": "c92c3c18",
   "metadata": {},
   "outputs": [],
   "source": [
    "def get_block_axis(block_centers, coord, ra_or_dec):\n",
    "    ra_or_dec_coord = getattr(coord, ra_or_dec)\n",
    "    block_dist_array = np.absolute(block_centers - ra_or_dec_coord)\n",
    "    closest_block_idx = block_dist_array.argmin()\n",
    "    if (ra_or_dec_coord < block_centers.min()-block_size/2 \n",
    "        or ra_or_dec_coord > block_centers.max()+block_size/2):\n",
    "        raise ValueError(f\"Chosen {ra_or_dec}: {ra_or_dec_coord} not covered by OpenUniverse 2024 data preview simulated Roman coadds\")\n",
    "    else:\n",
    "        return closest_block_idx + 12 # preview covers central 12 rows 12 columns, in a grid of 36x36 blocks"
   ]
  },
  {
   "cell_type": "markdown",
   "id": "9dd9d126",
   "metadata": {},
   "source": [
    "### Define a function that retrieves a Roman simulated coadd given a sky position and filter."
   ]
  },
  {
   "cell_type": "markdown",
   "id": "6c06faf9",
   "metadata": {},
   "source": [
    "Each of the cloud-hosted simulated Roman coadds can be accessed via a S3 filepath. This function returns the access path for the simulated Roman coadd that includes a specified position on the sky and desired filter."
   ]
  },
  {
   "cell_type": "code",
   "execution_count": null,
   "id": "cb342bae",
   "metadata": {},
   "outputs": [],
   "source": [
    "def get_roman_coadd_fpath(coord, filter):\n",
    "    col = get_block_axis(ra_block_centers, coord, 'ra')\n",
    "    row = get_block_axis(dec_block_centers, coord, 'dec')\n",
    "    \n",
    "    # Construct the coadd filename from the chosen filter, row, and column.\n",
    "    coadd_fname_root = f\"prod_{filter[0]}_{col}_{row}_map.fits\"\n",
    "    coadd_fpath = f\"{BUCKET_NAME}/{ROMAN_COADD_PATH}/{filter}/Row{row}/{coadd_fname_root}\"\n",
    "    return coadd_fpath"
   ]
  },
  {
   "cell_type": "markdown",
   "id": "dd1f48c6",
   "metadata": {},
   "source": [
    "Now we use this access path and prefix it with `s3://` and use astropy.fits to extract a subset of it (for more info see https://docs.astropy.org/en/stable/io/fits/usage/cloud.html#subsetting-fits-files-hosted-in-amazon-s3-cloud-storage).\n",
    "\n",
    "We use `.section` to retrieve just the science image data from fits HDU as a 2D `numpy.array`, and extract WCS information from fits header as `astropy.wcs.WCS` object. The following function returns a dictionary of both."
   ]
  },
  {
   "cell_type": "code",
   "execution_count": null,
   "id": "b59f5dfa",
   "metadata": {},
   "outputs": [],
   "source": [
    "def get_roman_coadd(coord, filter):\n",
    "    # retrive fits file of block/tile from the coadd mosiac\n",
    "    coadd_s3_fpath = get_roman_coadd_fpath(coord, filter)\n",
    "    coadd_s3_uri = f\"s3://{coadd_s3_fpath}\"\n",
    "\n",
    "    with fits.open(coadd_s3_uri, fsspec_kwargs={\"anon\": True}) as hdul:\n",
    "        # retrieve science data from coadd fits\n",
    "        coadd_data = hdul[0].section[0,0, :, :]  # has (2688, 2688, 15, 1) shape, with 0th layer in the cube as science image\n",
    "\n",
    "        # make wcs using header\n",
    "        coadd_wcs = wcs.WCS(hdul[0].header, naxis=2)\n",
    "\n",
    "        return {'data': coadd_data, 'wcs': coadd_wcs}"
   ]
  },
  {
   "cell_type": "markdown",
   "id": "67e6285b",
   "metadata": {},
   "source": [
    "### Inspect a simulated Roman Coadd"
   ]
  },
  {
   "cell_type": "markdown",
   "id": "b5947444",
   "metadata": {},
   "source": [
    "Choose a filter and position that lies within the data preview region"
   ]
  },
  {
   "cell_type": "code",
   "execution_count": null,
   "id": "4e74aa7a",
   "metadata": {},
   "outputs": [],
   "source": [
    "coord = SkyCoord(ra=9.6055383, dec=-44.1895542, unit=\"deg\")\n",
    "filter_roman = 'H158' #F184, H158, J129, K213, and Y106 are available in the data preview"
   ]
  },
  {
   "cell_type": "markdown",
   "id": "7255417c",
   "metadata": {},
   "source": [
    "Retrieve the data and header information from the simulated Roman coadd corresponding to the chosen position and filter."
   ]
  },
  {
   "cell_type": "code",
   "execution_count": null,
   "id": "c2a8541f",
   "metadata": {},
   "outputs": [],
   "source": [
    "coadd_roman = get_roman_coadd(coord, filter_roman)"
   ]
  },
  {
   "cell_type": "markdown",
   "id": "aaf18362",
   "metadata": {},
   "source": [
    "### Understand the size of a simulated Roman coadd."
   ]
  },
  {
   "cell_type": "code",
   "execution_count": null,
   "id": "f8c46db6",
   "metadata": {},
   "outputs": [],
   "source": [
    "# Number of pixels (Y, X)\n",
    "coadd_roman['data'].shape"
   ]
  },
  {
   "cell_type": "code",
   "execution_count": null,
   "id": "d8f56e65",
   "metadata": {},
   "outputs": [],
   "source": [
    "# Pixel size (scale Y, scale X) [degrees/pixel]\n",
    "coadd_roman['wcs'].proj_plane_pixel_scales()"
   ]
  },
  {
   "cell_type": "code",
   "execution_count": null,
   "id": "70f7f107",
   "metadata": {},
   "outputs": [],
   "source": [
    "# Coadd size (FOV Y, FOV X)\n",
    "[(num * size).to('arcsec') for num, size in zip(\n",
    "    coadd_roman['data'].shape, coadd_roman['wcs'].proj_plane_pixel_scales())]"
   ]
  },
  {
   "cell_type": "markdown",
   "id": "866a99df",
   "metadata": {},
   "source": [
    "The field of view of Roman coadd is ~100 arcsec."
   ]
  },
  {
   "cell_type": "markdown",
   "id": "3ba4b73a",
   "metadata": {},
   "source": [
    "### Use the WCS from the Roman simulated header to convert the specified coordinate into a pixel position."
   ]
  },
  {
   "cell_type": "code",
   "execution_count": null,
   "id": "4b36cac9",
   "metadata": {},
   "outputs": [],
   "source": [
    "def coord_to_xy(w, coord):\n",
    "    return w.world_to_array_index(coord)[::-1] #reverse since 0th axis is y, 1st axis is x\n",
    "\n",
    "coord_arr_idx = coord_to_xy(coadd_roman['wcs'], coord)\n",
    "coord_arr_idx"
   ]
  },
  {
   "cell_type": "markdown",
   "id": "6cc468ef",
   "metadata": {},
   "source": [
    "### Use matplotlib imshow to create a static visualization of the Roman simulated coadd and overplot the selected position."
   ]
  },
  {
   "cell_type": "code",
   "execution_count": null,
   "id": "f224c71b",
   "metadata": {},
   "outputs": [],
   "source": [
    "def stretch_color(data, clipPercent):\n",
    "    return np.percentile(data, (0 + clipPercent, 100 - clipPercent))\n",
    "\n",
    "plt.imshow(coadd_roman['data'], origin='lower', \n",
    "           clim=stretch_color(coadd_roman['data'], 1)\n",
    "           )\n",
    "\n",
    "plt.plot(*coord_arr_idx, 'r+', markersize=15)"
   ]
  },
  {
   "cell_type": "markdown",
   "id": "d06c8e48",
   "metadata": {},
   "source": [
    "## Rubin Coadds\n",
    "\n",
    "The OpenUniverse2024 data preview includes coadded mosaics in the following filters: u, g, r, i, z, y. In this section, we define some functions that make it convenient to retrieve a given cloud-hosted simulated Roman coadd based on position and filter."
   ]
  },
  {
   "cell_type": "markdown",
   "id": "6eeebc9b",
   "metadata": {},
   "source": [
    "### Retrieve Rubin Coadds\n",
    "\n",
    "The OpenUniverse2024 data preview includes only one simulated Rubin coadd per filter. Below we define functions that make it convenient to retrieve the simulated Rubin coadd corresponding to the desired filter. We return data in same structure as the functions we defined above for Roman."
   ]
  },
  {
   "cell_type": "code",
   "execution_count": null,
   "id": "14da22f1",
   "metadata": {},
   "outputs": [],
   "source": [
    "def get_rubin_coadd_fpath(filter): \n",
    "    coadd_fname_root = f\"deepCoadd_calexp_2877_19_{filter}_DC2_u_descdm_preview_data_step3_2877_19_w_2024_12_20240403T150003Z.fits\"\n",
    "    coadd_fpath = f\"{BUCKET_NAME}/{RUBIN_COADD_PATH}/{filter}/{coadd_fname_root}\"\n",
    "    return coadd_fpath"
   ]
  },
  {
   "cell_type": "code",
   "execution_count": null,
   "id": "f8f1eecb",
   "metadata": {},
   "outputs": [],
   "source": [
    "def get_rubin_coadd(filter):\n",
    "    coadd_s3_fpath = get_rubin_coadd_fpath(filter)\n",
    "\n",
    "    with fits.open(f\"s3://{coadd_s3_fpath}\", fsspec_kwargs={\"anon\": True}) as hdul:\n",
    "        # retrieve science data from coadd fits\n",
    "        coadd_data = hdul[1].section[:,:]\n",
    "\n",
    "        # make wcs using header\n",
    "        coadd_wcs = wcs.WCS(hdul[1].header)\n",
    "\n",
    "        return {'data': coadd_data, 'wcs': coadd_wcs}"
   ]
  },
  {
   "cell_type": "markdown",
   "id": "68a32906",
   "metadata": {},
   "source": [
    "### Inspect a simulated Rubin Coadd"
   ]
  },
  {
   "cell_type": "markdown",
   "id": "f2eaa276",
   "metadata": {},
   "source": [
    "Choose a filter and retrieve the data and header information from the simulated Rubin coadd corresponding to that filter."
   ]
  },
  {
   "cell_type": "code",
   "execution_count": null,
   "id": "0c547a2e",
   "metadata": {},
   "outputs": [],
   "source": [
    "filter_rubin = 'r'\n",
    "coadd_rubin = get_rubin_coadd(filter_rubin)"
   ]
  },
  {
   "cell_type": "markdown",
   "id": "8479f072",
   "metadata": {},
   "source": [
    "### Understand the size of a simulated Rubin coadd."
   ]
  },
  {
   "cell_type": "code",
   "execution_count": null,
   "id": "b0043d20",
   "metadata": {},
   "outputs": [],
   "source": [
    "# Number of pixels (Y, X)\n",
    "coadd_rubin['data'].shape"
   ]
  },
  {
   "cell_type": "code",
   "execution_count": null,
   "id": "9db167b9",
   "metadata": {},
   "outputs": [],
   "source": [
    "# Pixel size (scale Y, scale X) [degrees/pixel]\n",
    "coadd_rubin['wcs'].proj_plane_pixel_scales()"
   ]
  },
  {
   "cell_type": "code",
   "execution_count": null,
   "id": "b55e702a",
   "metadata": {},
   "outputs": [],
   "source": [
    "# Coadd size (FOV Y, FOV X)\n",
    "[(num * size).to('arcsec') for num, size in zip(\n",
    "    coadd_rubin['data'].shape, coadd_rubin['wcs'].proj_plane_pixel_scales())]"
   ]
  },
  {
   "cell_type": "markdown",
   "id": "ac9c6af8",
   "metadata": {},
   "source": [
    "The field of view of Rubin coadd is 840 arcsec."
   ]
  },
  {
   "cell_type": "markdown",
   "id": "2c090111",
   "metadata": {},
   "source": [
    "### Use matplotlib imshow to create a static visualization of the Rubin simulated coadd and overplot the selected position."
   ]
  },
  {
   "cell_type": "code",
   "execution_count": null,
   "id": "9ba5af84",
   "metadata": {},
   "outputs": [],
   "source": [
    "plt.imshow(coadd_rubin['data'], origin='lower', \n",
    "           clim=stretch_color(coadd_rubin['data'], 1)\n",
    "           )\n",
    "\n",
    "plt.plot(*coord_to_xy(coadd_rubin['wcs'], coord), 'r+', markersize=15)"
   ]
  },
  {
   "cell_type": "markdown",
   "id": "be4ac8d7",
   "metadata": {},
   "source": [
    "### Define a function that returns the URL for a given S3 filepath\n",
    "Since the OpenUniverse2024 data is available through a public S3 bucket, we can access a given S3 file using HTTPS URL as follows:"
   ]
  },
  {
   "cell_type": "code",
   "execution_count": null,
   "id": "ac597700",
   "metadata": {},
   "outputs": [],
   "source": [
    "def https_url(s3_fpath):\n",
    "    s3_fpath_without_bucket = s3_fpath.split('/', 1)[1]\n",
    "    return f\"https://{BUCKET_NAME}.s3.amazonaws.com/{s3_fpath_without_bucket}\""
   ]
  },
  {
   "cell_type": "markdown",
   "id": "6705d038",
   "metadata": {},
   "source": [
    "Let's generate URL for the Rubin coadd we plotted above. Clicking on the returned URL will allow you to download this image locally."
   ]
  },
  {
   "cell_type": "code",
   "execution_count": null,
   "id": "12567850",
   "metadata": {},
   "outputs": [],
   "source": [
    "coadd_s3_fpath_rubin = get_rubin_coadd_fpath(filter_rubin)\n",
    "https_url(coadd_s3_fpath_rubin)"
   ]
  },
  {
   "cell_type": "markdown",
   "id": "a455ec39",
   "metadata": {},
   "source": [
    "## Compare simulated Roman and Rubin cutouts for a selected position"
   ]
  },
  {
   "cell_type": "markdown",
   "id": "fd765e85",
   "metadata": {},
   "source": [
    "### Choose cutout size"
   ]
  },
  {
   "cell_type": "code",
   "execution_count": null,
   "id": "eff32a83",
   "metadata": {},
   "outputs": [],
   "source": [
    "cutout_size = 50*u.arcsec"
   ]
  },
  {
   "cell_type": "markdown",
   "id": "58a36911",
   "metadata": {},
   "source": [
    "### Create the cutouts"
   ]
  },
  {
   "cell_type": "code",
   "execution_count": null,
   "id": "7c5ae085",
   "metadata": {},
   "outputs": [],
   "source": [
    "cutout_roman = Cutout2D(coadd_roman['data'], coord, size=cutout_size, wcs=coadd_roman['wcs'])\n",
    "cutout_rubin = Cutout2D(coadd_rubin['data'], coord, size=cutout_size, wcs=coadd_rubin['wcs'])"
   ]
  },
  {
   "cell_type": "markdown",
   "id": "f4553784",
   "metadata": {},
   "source": [
    "### Use matplotlib imshow to plot static side-by-side comparisons of the cutouts"
   ]
  },
  {
   "cell_type": "code",
   "execution_count": null,
   "id": "8ced4199",
   "metadata": {},
   "outputs": [],
   "source": [
    "fig, axs = plt.subplots(1, 2, figsize=(12, 6))\n",
    "\n",
    "\n",
    "axs[0].imshow(cutout_roman.data, origin='lower', \n",
    "              clim=stretch_color(cutout_roman.data, .5)\n",
    "              )\n",
    "axs[0].plot(*coord_to_xy(cutout_roman.wcs, coord), 'r+', markersize=15)\n",
    "axs[0].set_title(f\"ROMAN in filter {filter_roman}\")\n",
    "\n",
    "axs[1].imshow(cutout_rubin.data, origin='lower', \n",
    "              clim=stretch_color(cutout_rubin.data, .5)\n",
    "              )\n",
    "axs[1].plot(*coord_to_xy(cutout_rubin.wcs, coord), 'r+', markersize=15)\n",
    "axs[1].set_title(f\"RUBIN in filter {filter_rubin}\")\n",
    "\n",
    "fig.suptitle(f\"Cutouts at ({coord.ra}, {coord.dec}) with {cutout_size} size\", fontsize=14)\n",
    "plt.tight_layout(rect=[0, 0, 1, 0.97])"
   ]
  },
  {
   "cell_type": "markdown",
   "id": "e914677c",
   "metadata": {},
   "source": [
    "## Use Firefly to interactively identify a blended source\n",
    "\n",
    "Clearly, the simulated Roman coadd has higher spatial resolution than the Rubin simulated coadd. Let's try to locate blended objects to compare in the simulated Rubin and Roman images. We will use Firefly's interactive visualization to make this task easier."
   ]
  },
  {
   "cell_type": "markdown",
   "id": "c77ab027",
   "metadata": {},
   "source": [
    "### Launch and initialize Firefly\n",
    "There are two ways to initialize a Firefly client from Python, depending on whether you're running the notebook in JupyterLab or not. Assuming you have `jupyter-firefly-extensions` set up in your environment as explained [here](https://github.com/Caltech-IPAC/jupyter_firefly_extensions/blob/master/README.md), you can use `make_lab_client()` in JupyterLab, which will open the Firefly viewer in a new tab within the Lab. Otherwise, you can use `make_client()` in a Jupyter Notebook (or even a Python shell), which will open the Firefly viewer in a new web browser tab.\n",
    "\n",
    "You also need a Firefly server to communicate with your Firefly Python client. In this notebook, we use a public Firefly server: the IRSA Viewer (https://irsa.ipac.caltech.edu/irsaviewer). However, you can also run a local Firefly server via a [Firefly Docker image](https://hub.docker.com/r/ipac/firefly) and access it at `http://localhost:8080/firefly`. The URL of the Firefly server is read by both `make_client()` and `make_lab_client()` through the environment variable `FIREFLY_URL`. However, `make_client()` also allows you to pass the URL directly as the `url` parameter."
   ]
  },
  {
   "cell_type": "code",
   "execution_count": null,
   "id": "6df33a53",
   "metadata": {},
   "outputs": [],
   "source": [
    "# Uncomment when using within Jupyter Lab with jupyter_firefly_extensions installed\n",
    "# fc = FireflyClient.make_lab_client()\n",
    "\n",
    "# Uncomment for contexts other than above \n",
    "fc = FireflyClient.make_client(url=\"https://irsa.ipac.caltech.edu/irsaviewer\")\n",
    "\n",
    "fc.reinit_viewer() # to clean the state, if this cell ran earlier"
   ]
  },
  {
   "cell_type": "markdown",
   "id": "5b169169",
   "metadata": {},
   "source": [
    "### Send the simulated Rubin coadd to Firefly using show_fits.\n",
    "\n",
    "For more information on `show_fits`, see: \n",
    "\n",
    "https://caltech-ipac.github.io/firefly_client/api/firefly_client.FireflyClient.html#firefly_client.FireflyClient.show_fits"
   ]
  },
  {
   "cell_type": "code",
   "execution_count": null,
   "id": "2d96d94f",
   "metadata": {},
   "outputs": [],
   "source": [
    "coadd_ff_id_rubin = 'rubin-coadd-filter-r'\n",
    "fc.show_fits(url=https_url(coadd_s3_fpath_rubin),\n",
    "             plot_id=coadd_ff_id_rubin,\n",
    "             Title=\"Rubin Coadd\"\n",
    "             )"
   ]
  },
  {
   "cell_type": "markdown",
   "id": "f457b95f",
   "metadata": {},
   "source": [
    "### Use ds9 region syntax to overplot the simulated Roman image blocks on the interactive display\n",
    "\n",
    "The Firefly client includes several methods related to controlling ds9 region overlays. To \n",
    "overlay a region layer on the loaded FITS images, we can use `overlay_region_layer`:\n",
    "\n",
    "https://caltech-ipac.github.io/firefly_client/api/firefly_client.FireflyClient.html#firefly_client.FireflyClient.overlay_region_layer\n",
    "\n",
    "Region data is defined in ds9 region syntax that can be found at https://ds9.si.edu/doc/ref/region.html"
   ]
  },
  {
   "cell_type": "code",
   "execution_count": null,
   "id": "f5278854",
   "metadata": {},
   "outputs": [],
   "source": [
    "# mark the roman coadd blocks as boxes\n",
    "roman_regions = [\n",
    "    f'icrs;box {ra_block_center.value}d {dec_block_center.value}d {block_size.value}\" {block_size.value}\" 0d'\n",
    "    for (ra_block_center, dec_block_center) in product(ra_block_centers, dec_block_centers)\n",
    "]\n",
    "\n",
    "roman_regions_id = 'roman_regions'\n",
    "fc.overlay_region_layer(region_data=roman_regions,\n",
    "                        title='Roman Mosiac', \n",
    "                        region_layer_id=roman_regions_id)"
   ]
  },
  {
   "cell_type": "markdown",
   "id": "707b418f",
   "metadata": {},
   "source": [
    "### Use Firefly's pan and zoom capabilities to locate a region of interest (a blended source)\n",
    "\n",
    "You can view the coordinates of your mouse pointer at the bottom left of the display window. To copy the coordinates for a specific coordinate:\n",
    "\n",
    "- Toggle the \"Click Lock\" to \"on\" in the bottom right of the image display.\n",
    "- Click on the position of interest, and notice that the coordinate display is now frozen.\n",
    "- Click on \"EQ-J2000\", the coordinate label in the bottom left of the image display. In the dialog that opens, change copy options to \"[Python] Astropy SkyCoord\" so that we can directly work with them in python.\n",
    "- Close the dialog and click on the copy icon next to the coordinate values display."
   ]
  },
  {
   "cell_type": "markdown",
   "id": "3476c94a",
   "metadata": {},
   "source": [
    "### Copy the coordinates from the coordinate display to the Python notebook\n",
    "\n",
    "We have provided an example. You can change this based on your interests."
   ]
  },
  {
   "cell_type": "code",
   "execution_count": null,
   "id": "1f6837be",
   "metadata": {},
   "outputs": [],
   "source": [
    "coords_of_interest = SkyCoord('0h38m25.35s -44d00m10.1s', frame='icrs') # located and copied through UI\n",
    "coords_of_interest"
   ]
  },
  {
   "cell_type": "markdown",
   "id": "cad990f5",
   "metadata": {},
   "source": [
    "We can now use this `SkyCoord` object to compare our coadds. More information on `SkyCoord` can be found here:\n",
    "\n",
    "https://docs.astropy.org/en/stable/api/astropy.coordinates.SkyCoord.html#astropy.coordinates.SkyCoord"
   ]
  },
  {
   "cell_type": "markdown",
   "id": "b1c30704",
   "metadata": {},
   "source": [
    "### Use ds9 region syntax to overplot the selected position\n",
    "\n",
    "For this we use the id of the region layer we defined above, and add more region data using `add_region_data`:\n",
    "\n",
    "https://caltech-ipac.github.io/firefly_client/api/firefly_client.FireflyClient.html#firefly_client.FireflyClient.add_region_data"
   ]
  },
  {
   "cell_type": "code",
   "execution_count": null,
   "id": "afda6bd1",
   "metadata": {},
   "outputs": [],
   "source": [
    "point_region = f'icrs;point {coords_of_interest.ra.value}d {coords_of_interest.dec.value}d # point=cross 15 text={{Blended source}}'\n",
    "fc.add_region_data(region_data=point_region, region_layer_id=roman_regions_id)"
   ]
  },
  {
   "cell_type": "markdown",
   "id": "6a31c8dc",
   "metadata": {},
   "source": [
    "## Plot cutouts of the identified blended source"
   ]
  },
  {
   "cell_type": "code",
   "execution_count": null,
   "id": "c202e094",
   "metadata": {},
   "outputs": [],
   "source": [
    "coadd_roman = get_roman_coadd(coords_of_interest, filter_roman)"
   ]
  },
  {
   "cell_type": "code",
   "execution_count": null,
   "id": "5bf814af",
   "metadata": {},
   "outputs": [],
   "source": [
    "cutout_size = 20*u.arcsec"
   ]
  },
  {
   "cell_type": "code",
   "execution_count": null,
   "id": "66697c1f",
   "metadata": {},
   "outputs": [],
   "source": [
    "cutout_roman = Cutout2D(coadd_roman['data'], coords_of_interest, size=cutout_size, wcs=coadd_roman['wcs'])\n",
    "cutout_rubin = Cutout2D(coadd_rubin['data'], coords_of_interest, size=cutout_size, wcs=coadd_rubin['wcs'])"
   ]
  },
  {
   "cell_type": "code",
   "execution_count": null,
   "id": "a8770ad8",
   "metadata": {},
   "outputs": [],
   "source": [
    "fig, axs = plt.subplots(1, 2, figsize=(12, 6))\n",
    "\n",
    "axs[0].imshow(cutout_roman.data, origin='lower', \n",
    "              clim=stretch_color(cutout_roman.data, .5)\n",
    "              )\n",
    "axs[0].set_title(f\"ROMAN in filter {filter_roman}\")\n",
    "\n",
    "# Let's also encircle the blended source we identified \n",
    "axs[0].add_patch(patches.Circle(coord_to_xy(cutout_roman.wcs, coords_of_interest), \n",
    "                                radius=50, color='r', fill=False, linewidth=2))\n",
    "# and a bonus blended source that is close to it\n",
    "other_coords = SkyCoord(coords_of_interest.ra-9.2*u.arcsec, coords_of_interest.dec+5*u.arcsec)\n",
    "axs[0].add_patch(patches.Circle(coord_to_xy(cutout_roman.wcs, other_coords),\n",
    "                                radius=36, color='cyan', fill=False, linewidth=2))\n",
    "\n",
    "\n",
    "axs[1].imshow(cutout_rubin.data, origin='lower', \n",
    "              clim=stretch_color(cutout_rubin.data, .5)\n",
    "              )\n",
    "axs[1].set_title(f\"RUBIN in filter {filter_rubin}\")\n",
    "\n",
    "# Let's also encircle the source we identified \n",
    "axs[1].add_patch(patches.Circle(coord_to_xy(cutout_rubin.wcs, coords_of_interest),\n",
    "                                radius=10, color='r', fill=False, linewidth=2))\n",
    "axs[1].add_patch(patches.Circle(coord_to_xy(cutout_rubin.wcs, other_coords),\n",
    "                                radius=8, color='cyan', fill=False, linewidth=2))\n",
    "\n",
    "\n",
    "fig.suptitle(f\"Cutouts at ({coords_of_interest.ra:6f}, {coords_of_interest.dec:6f}) with {cutout_size} size\", fontsize=14);\n",
    "plt.tight_layout(rect=[0, 0, 1, 0.97])\n",
    "# plt.savefig(\"plot.pdf\", bbox_inches='tight', pad_inches=0.2)"
   ]
  },
  {
   "cell_type": "markdown",
   "id": "a5f1f317",
   "metadata": {},
   "source": [
    "## Use Firefly to visualize the OpenUniverse2024 data preview catalogs\n",
    "Let's inspect the properties of sources in the Rubin coadd image. For this we will use the input truth files present in S3 bucket.\n",
    "\n",
    "The OpenUniverse2024 data preview includes the input truth files that were used to create the simulated images. These files are in Parquet and HDF5 format, and include information about the properties of galaxies, stars, and transients.\n",
    "\n",
    "To list the available files, we use [s3fs](https://s3fs.readthedocs.io/en/latest/index.html). We open a file-system like connection \n",
    "to AWS S3 and then simply list (`ls`) truth files directory:"
   ]
  },
  {
   "cell_type": "code",
   "execution_count": null,
   "id": "c61a44e6",
   "metadata": {},
   "outputs": [],
   "source": [
    "s3 = s3fs.S3FileSystem(anon=True) # to browse s3 bucket\n",
    "s3.ls(f\"{BUCKET_NAME}/{TRUTH_FILES_PATH}\")"
   ]
  },
  {
   "cell_type": "code",
   "execution_count": null,
   "id": "7f878a42",
   "metadata": {},
   "outputs": [],
   "source": [
    "# Catalog table of star properties (in parquet format)\n",
    "pointsource_cat_path = f\"{BUCKET_NAME}/{TRUTH_FILES_PATH}/pointsource_10307.parquet\"\n",
    "pointsource_cat_path"
   ]
  },
  {
   "cell_type": "code",
   "execution_count": null,
   "id": "2f8633cb",
   "metadata": {},
   "outputs": [],
   "source": [
    "# Catalog table of galaxy properties (in parquet format)\n",
    "galaxy_cat_path = f\"{BUCKET_NAME}/{TRUTH_FILES_PATH}/galaxy_10307.parquet\"\n",
    "galaxy_cat_path"
   ]
  },
  {
   "cell_type": "markdown",
   "id": "533bbaa2",
   "metadata": {},
   "source": [
    "### Use Firefly's show_table to overlay the catalogs on interactive image of coadd\n",
    "\n",
    "The input truth files cover a region much larger than the data preview, so we define filters on table to constraint the sources in catalog within the ra and dec bounds of preview data. (Note: you can remove filters through the table UI if you wish to see the entire data)"
   ]
  },
  {
   "cell_type": "markdown",
   "id": "6b46d7fa",
   "metadata": {},
   "source": [
    "You can visualize catalogs interactively with Firefly using `show_table`. This capability can take many parameters. Here we will simply send our catalog to Firefly so that we can (a) see an interactive table; (b) see this table plotted over the image that we've already sent; and (c) use the GUI to quickly create exploratory plots. See if you can use the GUI to quickly determine approximately how many galaxies cover the Rubin image and what the redshift distribution of these galaxies is.\n",
    "\n",
    "For more information on `show_table`, see: \n",
    "\n",
    "https://caltech-ipac.github.io/firefly_client/api/firefly_client.FireflyClient.html#firefly_client.FireflyClient.show_table"
   ]
  },
  {
   "cell_type": "code",
   "execution_count": null,
   "id": "58586a40",
   "metadata": {},
   "outputs": [],
   "source": [
    "cat_filters = [\n",
    "    f'(\"ra\" >= {ra_block_centers.min().value} AND \"ra\" <= {ra_block_centers.max().value})', \n",
    "    f'(\"dec\" >= {dec_block_centers.min().value} AND \"dec\" <= {dec_block_centers.max().value})'\n",
    "]\n",
    "cat_filters"
   ]
  },
  {
   "cell_type": "code",
   "execution_count": null,
   "id": "383ba440",
   "metadata": {},
   "outputs": [],
   "source": [
    "fc.show_table(url=https_url(pointsource_cat_path),\n",
    "              title='Stars Catalog',\n",
    "              tbl_id='stars_cat',\n",
    "              filters=\" AND \".join(cat_filters))"
   ]
  },
  {
   "cell_type": "code",
   "execution_count": null,
   "id": "d01464ff",
   "metadata": {},
   "outputs": [],
   "source": [
    "gal_cat_tbl_id = 'galaxy_cat'\n",
    "\n",
    "# may take ~1.25min, because galaxy catalog is a big file\n",
    "fc.show_table(url=https_url(galaxy_cat_path),\n",
    "              title='Galaxy Catalog',\n",
    "              tbl_id=gal_cat_tbl_id,\n",
    "              filters=\" AND \".join(cat_filters))"
   ]
  },
  {
   "cell_type": "markdown",
   "id": "25a889ca",
   "metadata": {},
   "source": [
    "For each row in the table you can notice a marker in the image. Selecting a row or marker changes the corresponding marker or row, respectively. You can click on \"Details\" tab in the UI to show properties of each source selected in image/table.\n",
    "\n",
    "### Use Firefly's apply_table_filters to show only high-redshift galaxies\n",
    "\n",
    "High redshift galaxies are the most interesting, so let's filter the table we sent to Firefly to only include z>3 galaxies. Notice how the table display and image overlay change. Notice how the chart becomes a scatterplot from a heatmap because the sources reduce. You can remove this filter or add new ones through the GUI.\n",
    "\n",
    "For filtering, we will use `apply_table_filters` method on the galaxy table we loaded above. More info about this method: https://caltech-ipac.github.io/firefly_client/api/firefly_client.FireflyClient.html#firefly_client.FireflyClient.apply_table_filters"
   ]
  },
  {
   "cell_type": "code",
   "execution_count": null,
   "id": "b2b947ce",
   "metadata": {},
   "outputs": [],
   "source": [
    "fc.apply_table_filters(tbl_id=gal_cat_tbl_id,\n",
    "                       filters=\" AND \".join(cat_filters+['\"redshift\" > 3']))"
   ]
  },
  {
   "cell_type": "markdown",
   "id": "fb431c16",
   "metadata": {},
   "source": [
    "You can play with the filters directly from the UI as well. Try removing adding more filters in the tables and see how markers change."
   ]
  },
  {
   "cell_type": "markdown",
   "id": "e5136362",
   "metadata": {},
   "source": [
    "### Use Firefly's show_fits_3color to create a 3 color image of the simulated Rubin images"
   ]
  },
  {
   "cell_type": "code",
   "execution_count": null,
   "id": "1ec85279",
   "metadata": {},
   "outputs": [],
   "source": [
    "# [R, G, B]\n",
    "ROMAN_RGB_FILTERS = ['H158', 'J129', 'Y106']\n",
    "RUBIN_RGB_FILTERS = ['r', 'g', 'u']"
   ]
  },
  {
   "cell_type": "markdown",
   "id": "efead1f4",
   "metadata": {},
   "source": [
    "We already have Rubin coadd with catalog overlaid, let's make a 3 color image to see colors of marked objects more clearly. For this we will use `show_fits_3color` method:\n",
    "\n",
    "https://caltech-ipac.github.io/firefly_client/api/firefly_client.FireflyClient.html#firefly_client.FireflyClient.show_fits_3color"
   ]
  },
  {
   "cell_type": "code",
   "execution_count": null,
   "id": "a5fe4071",
   "metadata": {},
   "outputs": [],
   "source": [
    "coadd_ff_id_rubin_3color = 'rubin-coadd-3color'\n",
    "threeC = [\n",
    "    dict(url=https_url(get_rubin_coadd_fpath(filter_name)),\n",
    "         Title=\"Rubin Coadd 3 color\")\n",
    "    for filter_name in RUBIN_RGB_FILTERS\n",
    "]\n",
    "\n",
    "fc.show_fits_3color(three_color_params=threeC,\n",
    "                    plot_id=coadd_ff_id_rubin_3color)"
   ]
  },
  {
   "cell_type": "markdown",
   "id": "cc556903",
   "metadata": {},
   "source": [
    "### Use Firefly's interactivity to identify a region of interest \n",
    "\n",
    "For example, we found a region of the sky that seems to have a high number of high redshift sources and we copy it from the image display:"
   ]
  },
  {
   "cell_type": "code",
   "execution_count": null,
   "id": "3b68725d",
   "metadata": {},
   "outputs": [],
   "source": [
    "# located and copied through UI\n",
    "high_z_gal_coords = SkyCoord('0h38m00.77s -44d12m10.2s', frame='icrs')\n",
    "high_z_gal_coords"
   ]
  },
  {
   "cell_type": "code",
   "execution_count": null,
   "id": "3d2ddf7f",
   "metadata": {},
   "outputs": [],
   "source": [
    "# let's also mark it in our region layer, so that it's easy to pinpoint later\n",
    "point_region = f'icrs;point {high_z_gal_coords.ra.value}d {high_z_gal_coords.dec.value}d # point=cross 15 text={{z>3 mock galaxies}}'\n",
    "fc.add_region_data(region_data=point_region, region_layer_id=roman_regions_id)"
   ]
  },
  {
   "cell_type": "markdown",
   "id": "51a0d0d0",
   "metadata": {},
   "source": [
    "## Plot 3-color Roman coadd containing your region of interest\n",
    "Let's inspect WCS of Roman coadd first"
   ]
  },
  {
   "cell_type": "code",
   "execution_count": null,
   "id": "4e5707e2",
   "metadata": {},
   "outputs": [],
   "source": [
    "coadd_roman['wcs']"
   ]
  },
  {
   "cell_type": "markdown",
   "id": "b603d442",
   "metadata": {},
   "source": [
    "### Prepare Roman coadds for displaying in Firefly\n",
    "\n",
    "Roman coadds have STG projection which cannot be read by Firefly yet. Firefly can display any FITS image but it needs to read the WCS for overlaying catalogs and other interactive features. So unlike Rubin 3 color image where we directly passed URL of coadd files to Firefly, we will read Roman coadd files in Python, reproject them from STG to TAN, and write them back to FITS to pass them to Firefly.\n",
    "\n",
    "Let's first define functions to do so:"
   ]
  },
  {
   "cell_type": "code",
   "execution_count": null,
   "id": "33663f74",
   "metadata": {},
   "outputs": [],
   "source": [
    "def reproject_to_TAN(coadd_roman):\n",
    "    # Define a new WCS with TAN projection (in CTYPE key)\n",
    "    output_wcs = coadd_roman['wcs'].deepcopy()\n",
    "    output_wcs.wcs.ctype = [ctype.replace('STG', 'TAN') for ctype in coadd_roman['wcs'].wcs.ctype]\n",
    "    \n",
    "    # Use reproject to convert a given data and wcs, to a desired wcs and shape\n",
    "    reprojected_data, _ = reproject_interp(\n",
    "        (coadd_roman['data'], coadd_roman['wcs']),\n",
    "        output_projection=output_wcs,\n",
    "        shape_out=coadd_roman['data'].shape\n",
    "    )\n",
    "\n",
    "    return {'data': reprojected_data, 'wcs': output_wcs}"
   ]
  },
  {
   "cell_type": "code",
   "execution_count": null,
   "id": "f818afc8",
   "metadata": {},
   "outputs": [],
   "source": [
    "def get_fits_stream(coadd_roman):\n",
    "    # Create a FITS PrimaryHDU object with the coadd data\n",
    "    hdu = fits.PrimaryHDU(data=coadd_roman['data'], header=coadd_roman['wcs'].to_header())\n",
    "\n",
    "    # Write the HDU to the in-memory stream (to save I/O time)\n",
    "    fits_stream = BytesIO()\n",
    "    hdu.writeto(fits_stream, overwrite=True)\n",
    "    fits_stream.seek(0) # to bring reading pointer to the beginning of file\n",
    "\n",
    "    return fits_stream"
   ]
  },
  {
   "cell_type": "markdown",
   "id": "947fe9b8",
   "metadata": {},
   "source": [
    "Then we perform all 3 operations we mentioned above for the RGB filters of Roman:"
   ]
  },
  {
   "cell_type": "code",
   "execution_count": null,
   "id": "247c38d2",
   "metadata": {},
   "outputs": [],
   "source": [
    "coadds_rgb = []\n",
    "coadds_rgb_reprojected = []\n",
    "coadds_rgb_fits_stream = []\n",
    "\n",
    "for filter_name in ROMAN_RGB_FILTERS:\n",
    "    print(f'\\nFILTER: {filter_name}')\n",
    "    print('Retrieving Roman coadd...')\n",
    "    coadd_roman = get_roman_coadd(high_z_gal_coords, filter_name)\n",
    "    coadds_rgb.append(coadd_roman)\n",
    "\n",
    "    print('Reprojecting to TAN...')\n",
    "    coadd_roman_reprojected = reproject_to_TAN(coadd_roman)\n",
    "    coadds_rgb_reprojected.append(coadd_roman_reprojected)\n",
    "\n",
    "    print('Writing back to fits stream...')\n",
    "    coadd_roman_fits_stream = get_fits_stream(coadd_roman_reprojected)\n",
    "    coadds_rgb_fits_stream.append(coadd_roman_fits_stream)"
   ]
  },
  {
   "cell_type": "markdown",
   "id": "c7d0b6cd",
   "metadata": {},
   "source": [
    "### Use Firefly's show_fits_3color to create a 3 color image of Roman coadds\n",
    "\n",
    "Now we upload each fits stream (in-memory fits file) to firefly using `upload_fits_data()` and prepare color params to pass to the `show_fits_3color()`. More info here:\n",
    "\n",
    "- https://caltech-ipac.github.io/firefly_client/api/firefly_client.FireflyClient.html#firefly_client.FireflyClient.upload_fits_data\n",
    "\n",
    "- https://caltech-ipac.github.io/firefly_client/api/firefly_client.FireflyClient.html#firefly_client.FireflyClient.show_fits_3color"
   ]
  },
  {
   "cell_type": "code",
   "execution_count": null,
   "id": "588720fa",
   "metadata": {},
   "outputs": [],
   "source": [
    "three_color_params = [\n",
    "    {\n",
    "        'file': fc.upload_fits_data(fits_stream),\n",
    "        'Title': \"Roman Coadd 3 color\"\n",
    "    } for fits_stream in coadds_rgb_fits_stream]"
   ]
  },
  {
   "cell_type": "code",
   "execution_count": null,
   "id": "a2de1984",
   "metadata": {},
   "outputs": [],
   "source": [
    "coadd_ff_id_roman_3color = 'roman-coadd-3color-high_z_gal'\n",
    "fc.show_fits_3color(three_color_params=three_color_params,\n",
    "                    plot_id=coadd_ff_id_roman_3color)"
   ]
  },
  {
   "cell_type": "markdown",
   "id": "1d7d6b10",
   "metadata": {},
   "source": [
    "We can see 3 color image of Roman coadd containing the high-redshift galaxy sources. Try panning and zomming out, you can notice it spans over one block compared to the Rubin coadd which is much larger.\n",
    "\n",
    "### Use Firefly's pan/zoom/align methods to locate high redshift sources\n",
    "Now, let's pan & zoom to the region where we located high-redshift galaxy sources. Also align & lock all images being displayed by WCS. For these operations we use these 3 methods:\n",
    "- `set_pan`: https://caltech-ipac.github.io/firefly_client/api/firefly_client.FireflyClient.html#firefly_client.FireflyClient.set_pan\n",
    "- `set_zoom`: https://caltech-ipac.github.io/firefly_client/api/firefly_client.FireflyClient.html#firefly_client.FireflyClient.set_zoom\n",
    "- `align_images`: https://caltech-ipac.github.io/firefly_client/api/firefly_client.FireflyClient.html#firefly_client.FireflyClient.align_images"
   ]
  },
  {
   "cell_type": "code",
   "execution_count": null,
   "id": "68c8eb14",
   "metadata": {},
   "outputs": [],
   "source": [
    "fc.set_pan(plot_id=coadd_ff_id_roman_3color, x=high_z_gal_coords.ra.deg, y=high_z_gal_coords.dec.deg, coord='j2000')\n",
    "fc.set_zoom(plot_id=coadd_ff_id_roman_3color, factor=1)\n",
    "fc.align_images(lock_match=True)"
   ]
  },
  {
   "cell_type": "markdown",
   "id": "e0d05c12",
   "metadata": {},
   "source": [
    "### Use Firefly's set_stretch method to change the stretch of the image display via Python\n",
    "\n",
    "The image has a lot of noise that obscures our high redshift sources of interest. You can use the Firefly GUI to change the stretch of the image display. We identify that squared stretch from -2 to 10 sigma highlights the colors of our sources better. You can also use the Firefly client's `set_stretch` to do this via Python. This is helpful for reproducibility and for scaling up to many images.\n",
    "\n",
    "More info about this method: https://caltech-ipac.github.io/firefly_client/api/firefly_client.FireflyClient.html#firefly_client.FireflyClient.set_stretch"
   ]
  },
  {
   "cell_type": "code",
   "execution_count": null,
   "id": "e5116379",
   "metadata": {},
   "outputs": [],
   "source": [
    "fc.set_stretch(plot_id=coadd_ff_id_roman_3color, stype='sigma', algorithm='squared', \n",
    "               band='ALL', lower_value=-2, upper_value=10)"
   ]
  },
  {
   "cell_type": "markdown",
   "id": "846f928e",
   "metadata": {},
   "source": [
    "***\n",
    "\n",
    "## About This Notebook\n",
    "\n",
    "**Author:** Jaladh Singhal and Vandana Desai in conjunction with the IRSA Team\n",
    "\n",
    "**Updated:** 2024-12-19\n",
    "\n",
    "**Contact:** [the IRSA Helpdesk](https://irsa.ipac.caltech.edu/docs/help_desk.html) with questions or reporting problems."
   ]
  }
 ],
 "metadata": {
  "kernelspec": {
   "display_name": "Python 3 (ipykernel)",
   "language": "python",
   "name": "python3"
  },
  "language_info": {
   "codemirror_mode": {
    "name": "ipython",
    "version": 3
   },
   "file_extension": ".py",
   "mimetype": "text/x-python",
   "name": "python",
   "nbconvert_exporter": "python",
   "pygments_lexer": "ipython3",
   "version": "3.12.4"
  }
 },
 "nbformat": 4,
 "nbformat_minor": 5
}
